{
 "cells": [
  {
   "cell_type": "markdown",
   "id": "51916b3a",
   "metadata": {
    "papermill": {
     "duration": 0.006959,
     "end_time": "2023-10-24T10:53:04.568719",
     "exception": false,
     "start_time": "2023-10-24T10:53:04.561760",
     "status": "completed"
    },
    "tags": []
   },
   "source": [
    "<div style=\"text-align: left; background-color:#E9F7EF; font-family: Trebuchet MS; color:#00008B; padding: 10px; line-height:1.20;border-radius:1px; margin-bottom: 0em; text-align: center; font-size: 48px;border-style: solid;border-color: dark green;\"> Machine Learning</div>"
   ]
  },
  {
   "cell_type": "markdown",
   "id": "e513cf81",
   "metadata": {
    "papermill": {
     "duration": 0.006316,
     "end_time": "2023-10-24T10:53:04.581718",
     "exception": false,
     "start_time": "2023-10-24T10:53:04.575402",
     "status": "completed"
    },
    "tags": []
   },
   "source": [
    "\n",
    "### Machine learning is a type of computer technology that allows computers to learn and make decisions from data without being explicitly programmed\n"
   ]
  },
  {
   "cell_type": "markdown",
   "id": "c9f260ce",
   "metadata": {
    "papermill": {
     "duration": 0.006265,
     "end_time": "2023-10-24T10:53:04.594475",
     "exception": false,
     "start_time": "2023-10-24T10:53:04.588210",
     "status": "completed"
    },
    "tags": []
   },
   "source": [
    " <div style=\"text-align: left; background-color:; font-family: Trebuchet MS; color: #00008B; padding: 15px; line-height:1;border-radius:1px; margin-bottom: 0em; text-align: center; font-size: 25px;border-style: solid;border-color: dark green\">1)Supervised Machine Learning </div>"
   ]
  },
  {
   "cell_type": "markdown",
   "id": "217bf3f5",
   "metadata": {
    "papermill": {
     "duration": 0.006183,
     "end_time": "2023-10-24T10:53:04.607169",
     "exception": false,
     "start_time": "2023-10-24T10:53:04.600986",
     "status": "completed"
    },
    "tags": []
   },
   "source": [
    "\n",
    "### Supervised machine learning is a type of machine learning where the algorithm learns from labeled data, which means the input data is paired with the correct output or target. The goal is for the algorithm to learn the relationship between inputs and outputs so that it can make predictions or classifications on new, unseen data."
   ]
  },
  {
   "cell_type": "markdown",
   "id": "4796734c",
   "metadata": {
    "papermill": {
     "duration": 0.006158,
     "end_time": "2023-10-24T10:53:04.620043",
     "exception": false,
     "start_time": "2023-10-24T10:53:04.613885",
     "status": "completed"
    },
    "tags": []
   },
   "source": [
    "#### CLASSIFICATION\n",
    "In classification tasks, the goal is to categorize input data into predefined classes or categories\n",
    "**Examples** include spam email detection (categorizing emails as spam or not spam), image classification (identifying objects in images, such as cats vs. dogs), and sentiment analysis (classifying text as positive, negative, or neutral sentiment)."
   ]
  },
  {
   "cell_type": "markdown",
   "id": "97ef3f9a",
   "metadata": {
    "papermill": {
     "duration": 0.006078,
     "end_time": "2023-10-24T10:53:04.632418",
     "exception": false,
     "start_time": "2023-10-24T10:53:04.626340",
     "status": "completed"
    },
    "tags": []
   },
   "source": [
    "### REGRESSION\n",
    "\n",
    "In regression tasks, the goal is to predict a continuous numerical value  **Examples** include predicting house prices based on features like square footage and location, forecasting stock prices, and estimating a person's age based on various attributes.\n",
    "\n"
   ]
  },
  {
   "cell_type": "markdown",
   "id": "d7ceeef7",
   "metadata": {
    "papermill": {
     "duration": 0.006094,
     "end_time": "2023-10-24T10:53:04.644793",
     "exception": false,
     "start_time": "2023-10-24T10:53:04.638699",
     "status": "completed"
    },
    "tags": []
   },
   "source": []
  },
  {
   "cell_type": "markdown",
   "id": "542a745e",
   "metadata": {
    "papermill": {
     "duration": 0.006112,
     "end_time": "2023-10-24T10:53:04.657273",
     "exception": false,
     "start_time": "2023-10-24T10:53:04.651161",
     "status": "completed"
    },
    "tags": []
   },
   "source": [
    " <div style=\"text-align: left; background-color:; font-family: Trebuchet MS; color: #00008B; padding: 15px; line-height:1;border-radius:1px; margin-bottom: 0em; text-align: center; font-size: 25px;border-style: solid;border-color: dark green\">2)Unsupervised Machine Learning </div>"
   ]
  },
  {
   "cell_type": "markdown",
   "id": "bbaa0c14",
   "metadata": {
    "papermill": {
     "duration": 0.006062,
     "end_time": "2023-10-24T10:53:04.669684",
     "exception": false,
     "start_time": "2023-10-24T10:53:04.663622",
     "status": "completed"
    },
    "tags": []
   },
   "source": [
    "### Unsupervised machine learning is a type of machine learning where the algorithm is tasked with finding patterns or structure in a dataset without the need for labeled output data or explicit guidance. In other words, it involves discovering patterns or relationships within the data on its own. Unsupervised learning is often used for exploratory data analysis, clustering, dimensionality reduction, and feature learning."
   ]
  },
  {
   "cell_type": "markdown",
   "id": "2053d7bb",
   "metadata": {
    "papermill": {
     "duration": 0.006093,
     "end_time": "2023-10-24T10:53:04.682180",
     "exception": false,
     "start_time": "2023-10-24T10:53:04.676087",
     "status": "completed"
    },
    "tags": []
   },
   "source": [
    "#### Clustering: \n",
    "Clustering algorithms group similar data points together based on some similarity metric. The goal is to partition the data into clusters so that data points within the same cluster are more similar to each other than to those in other clusters. **Common clustering algorithms include K-Means, Hierarchical Clustering, and DBSCAN.**\n",
    "\n"
   ]
  },
  {
   "cell_type": "markdown",
   "id": "b283222f",
   "metadata": {
    "papermill": {
     "duration": 0.006526,
     "end_time": "2023-10-24T10:53:04.695043",
     "exception": false,
     "start_time": "2023-10-24T10:53:04.688517",
     "status": "completed"
    },
    "tags": []
   },
   "source": [
    "#### Dimensionality Reduction:  \n",
    "Dimensionality reduction techniques aim to reduce the number of features or variables in a dataset while preserving as much useful information as possible. This is particularly useful for visualizing high-dimensional data and reducing computational complexity. Principal Component Analysis (PCA) and t-Distributed Stochastic Neighbor Embedding (t-SNE) are examples of dimensionality reduction methods."
   ]
  },
  {
   "cell_type": "markdown",
   "id": "a1230afc",
   "metadata": {
    "papermill": {
     "duration": 0.006415,
     "end_time": "2023-10-24T10:53:04.707742",
     "exception": false,
     "start_time": "2023-10-24T10:53:04.701327",
     "status": "completed"
    },
    "tags": []
   },
   "source": [
    " <div style=\"text-align: left; background-color:; font-family: Trebuchet MS; color: #00008B; padding: 15px; line-height:1;border-radius:1px; margin-bottom: 0em; text-align: center; font-size: 25px;border-style: solid;border-color: dark green\">3) Reinforcement learning </div>"
   ]
  },
  {
   "cell_type": "markdown",
   "id": "c61c400d",
   "metadata": {
    "papermill": {
     "duration": 0.006047,
     "end_time": "2023-10-24T10:53:04.720230",
     "exception": false,
     "start_time": "2023-10-24T10:53:04.714183",
     "status": "completed"
    },
    "tags": []
   },
   "source": [
    "#### Reinforcement learning is like teaching a computer to make decisions by giving it rewards when it does something right and penalties when it makes mistakes. It's similar to training a pet where you reward good behavior and discourage bad behavior. Over time, the computer learns to make better decisions to maximize its rewards. This is used in things like teaching robots to perform tasks and making smart recommendations on websites."
   ]
  },
  {
   "cell_type": "markdown",
   "id": "aac4c365",
   "metadata": {
    "papermill": {
     "duration": 0.006219,
     "end_time": "2023-10-24T10:53:04.732738",
     "exception": false,
     "start_time": "2023-10-24T10:53:04.726519",
     "status": "completed"
    },
    "tags": []
   },
   "source": [
    "<div style=\"text-align: left; background-color:; font-family: Trebuchet MS; color: #00008B; padding: 15px; line-height:1;border-radius:1px; margin-bottom: 0em; text-align: center; font-size: 25px;border-style: solid;border-color: dark green\">Supervised Machine Learning Algorithm </div>"
   ]
  },
  {
   "cell_type": "markdown",
   "id": "9101bd21",
   "metadata": {
    "papermill": {
     "duration": 0.006126,
     "end_time": "2023-10-24T10:53:04.745178",
     "exception": false,
     "start_time": "2023-10-24T10:53:04.739052",
     "status": "completed"
    },
    "tags": []
   },
   "source": [
    "<div style=\"text-align: left; background-color:; font-family: Trebuchet MS; color: #00008B; padding: 15px; line-height:1;border-radius:1px; margin-bottom: 0em; text-align: center; font-size: 25px;border-style: solid;border-color: dark green\">1)Linear regression</div>"
   ]
  },
  {
   "cell_type": "markdown",
   "id": "0665fabe",
   "metadata": {
    "papermill": {
     "duration": 0.006062,
     "end_time": "2023-10-24T10:53:04.757634",
     "exception": false,
     "start_time": "2023-10-24T10:53:04.751572",
     "status": "completed"
    },
    "tags": []
   },
   "source": [
    "**Linear regression is a simple regression algorithm that can be used to predict continuous numerical values. It works by fitting a linear line to the training data, and then using this line to predict the output value for new input data points.**"
   ]
  },
  {
   "cell_type": "markdown",
   "id": "710d9533",
   "metadata": {
    "papermill": {
     "duration": 0.006128,
     "end_time": "2023-10-24T10:53:04.770104",
     "exception": false,
     "start_time": "2023-10-24T10:53:04.763976",
     "status": "completed"
    },
    "tags": []
   },
   "source": [
    "<div style=\"text-align: left; background-color:; font-family: Trebuchet MS; color: #00008B; padding: 15px; line-height:1;border-radius:1px; margin-bottom: 0em; text-align: center; font-size: 25px;border-style: solid;border-color: dark green\">2)Logistic regression</div>"
   ]
  },
  {
   "cell_type": "markdown",
   "id": "d64610d3",
   "metadata": {
    "papermill": {
     "duration": 0.006104,
     "end_time": "2023-10-24T10:53:04.782655",
     "exception": false,
     "start_time": "2023-10-24T10:53:04.776551",
     "status": "completed"
    },
    "tags": []
   },
   "source": [
    "**Logistic regression is a classification algorithm that can be used to predict binary outcomes, such as spam or not spam, or churn or not churn. It works by fitting a logistic curve to the training data, and then using this curve to predict the probability of the output being equal to each class.**\n"
   ]
  },
  {
   "cell_type": "markdown",
   "id": "cd2eea4c",
   "metadata": {
    "papermill": {
     "duration": 0.006063,
     "end_time": "2023-10-24T10:53:04.795283",
     "exception": false,
     "start_time": "2023-10-24T10:53:04.789220",
     "status": "completed"
    },
    "tags": []
   },
   "source": []
  },
  {
   "cell_type": "markdown",
   "id": "3959c771",
   "metadata": {
    "papermill": {
     "duration": 0.006127,
     "end_time": "2023-10-24T10:53:04.808145",
     "exception": false,
     "start_time": "2023-10-24T10:53:04.802018",
     "status": "completed"
    },
    "tags": []
   },
   "source": [
    "<div style=\"text-align: left; background-color:; font-family: Trebuchet MS; color: #00008B; padding: 15px; line-height:1;border-radius:1px; margin-bottom: 0em; text-align: center; font-size: 25px;border-style: solid;border-color: dark green\">3) Decision trees</div>"
   ]
  },
  {
   "cell_type": "markdown",
   "id": "8114aa8e",
   "metadata": {
    "papermill": {
     "duration": 0.006651,
     "end_time": "2023-10-24T10:53:04.823257",
     "exception": false,
     "start_time": "2023-10-24T10:53:04.816606",
     "status": "completed"
    },
    "tags": []
   },
   "source": [
    "**Decision trees are classification and regression algorithms that can be used to predict both binary and continuous outcomes. They work by constructing a tree-like structure, where each node in the tree represents a decision rule. The algorithm starts at the root node of the tree, and then follows the decision rules to traverse the tree until it reaches a leaf node. The leaf node contains the predicted output value.**"
   ]
  },
  {
   "cell_type": "markdown",
   "id": "00783041",
   "metadata": {
    "papermill": {
     "duration": 0.006063,
     "end_time": "2023-10-24T10:53:04.835904",
     "exception": false,
     "start_time": "2023-10-24T10:53:04.829841",
     "status": "completed"
    },
    "tags": []
   },
   "source": [
    "<div style=\"text-align: left; background-color:; font-family: Trebuchet MS; color: #00008B; padding: 15px; line-height:1;border-radius:1px; margin-bottom: 0em; text-align: center; font-size: 25px;border-style: solid;border-color: dark green\">4) Random Forest</div>"
   ]
  },
  {
   "cell_type": "markdown",
   "id": "19b1371f",
   "metadata": {
    "papermill": {
     "duration": 0.006238,
     "end_time": "2023-10-24T10:53:04.848541",
     "exception": false,
     "start_time": "2023-10-24T10:53:04.842303",
     "status": "completed"
    },
    "tags": []
   },
   "source": [
    "**Random forests are an ensemble learning algorithm that can be used for both classification and regression tasks. They work by constructing a set of decision trees, and then averaging the predictions of the trees to get the final prediction. Random forests are often more accurate and robust than individual decision trees.**"
   ]
  },
  {
   "cell_type": "markdown",
   "id": "a4ac5d3e",
   "metadata": {
    "papermill": {
     "duration": 0.006167,
     "end_time": "2023-10-24T10:53:04.861115",
     "exception": false,
     "start_time": "2023-10-24T10:53:04.854948",
     "status": "completed"
    },
    "tags": []
   },
   "source": [
    "<div style=\"text-align: left; background-color:; font-family: Trebuchet MS; color: #00008B; padding: 15px; line-height:1;border-radius:1px; margin-bottom: 0em; text-align: center; font-size: 25px;border-style: solid;border-color: dark green\">5) Support vector machines </div>"
   ]
  },
  {
   "cell_type": "markdown",
   "id": "c2957676",
   "metadata": {
    "papermill": {
     "duration": 0.006245,
     "end_time": "2023-10-24T10:53:04.873930",
     "exception": false,
     "start_time": "2023-10-24T10:53:04.867685",
     "status": "completed"
    },
    "tags": []
   },
   "source": [
    "**SVMs are classification and regression algorithms that can be used to predict both binary and continuous outcomes. They work by finding a hyperplane that separates the training data into two classes (in the case of classification tasks) or by finding a hyperplane that best fits the training data (in the case of regression tasks). The hyperplane is found using a technique called quadratic programming, which minimizes a cost function that penalizes the classification errors and the complexity of the hyperplane.**"
   ]
  },
  {
   "cell_type": "code",
   "execution_count": null,
   "id": "6d30bd11",
   "metadata": {
    "papermill": {
     "duration": 0.006305,
     "end_time": "2023-10-24T10:53:04.886797",
     "exception": false,
     "start_time": "2023-10-24T10:53:04.880492",
     "status": "completed"
    },
    "tags": []
   },
   "outputs": [],
   "source": []
  },
  {
   "cell_type": "markdown",
   "id": "fbe95568",
   "metadata": {
    "papermill": {
     "duration": 0.006246,
     "end_time": "2023-10-24T10:53:04.899555",
     "exception": false,
     "start_time": "2023-10-24T10:53:04.893309",
     "status": "completed"
    },
    "tags": []
   },
   "source": [
    "<div style=\"text-align: left; background-color:; font-family: Trebuchet MS; color: #00008B; padding: 15px; line-height:1;border-radius:1px; margin-bottom: 0em; text-align: center; font-size: 25px;border-style: solid;border-color: dark green\">Unsupervised Machine Learning </div>"
   ]
  },
  {
   "cell_type": "markdown",
   "id": "ec3e50b4",
   "metadata": {
    "papermill": {
     "duration": 0.006129,
     "end_time": "2023-10-24T10:53:04.912300",
     "exception": false,
     "start_time": "2023-10-24T10:53:04.906171",
     "status": "completed"
    },
    "tags": []
   },
   "source": []
  },
  {
   "cell_type": "markdown",
   "id": "91ea9f03",
   "metadata": {
    "papermill": {
     "duration": 0.00633,
     "end_time": "2023-10-24T10:53:04.925053",
     "exception": false,
     "start_time": "2023-10-24T10:53:04.918723",
     "status": "completed"
    },
    "tags": []
   },
   "source": [
    "<div style=\"text-align: left; background-color:; font-family: Trebuchet MS; color: #00008B; padding: 15px; line-height:1;border-radius:1px; margin-bottom: 0em; text-align: center; font-size: 25px;border-style: solid;border-color: dark green\"> Clustering: </div>"
   ]
  },
  {
   "cell_type": "markdown",
   "id": "3483e58f",
   "metadata": {
    "papermill": {
     "duration": 0.006136,
     "end_time": "2023-10-24T10:53:04.937613",
     "exception": false,
     "start_time": "2023-10-24T10:53:04.931477",
     "status": "completed"
    },
    "tags": []
   },
   "source": [
    "## 1) K-Means Clustering\n",
    " **Groups data points into 'k' clusters based on similarity.**"
   ]
  },
  {
   "cell_type": "markdown",
   "id": "40b0d731",
   "metadata": {
    "papermill": {
     "duration": 0.006123,
     "end_time": "2023-10-24T10:53:04.950345",
     "exception": false,
     "start_time": "2023-10-24T10:53:04.944222",
     "status": "completed"
    },
    "tags": []
   },
   "source": [
    "## 2) Hierarchical Clustering\n",
    "**Forms a hierarchical tree-like structure of clusters, useful for visualizing relationships in data.**"
   ]
  },
  {
   "cell_type": "markdown",
   "id": "2d423c9b",
   "metadata": {
    "papermill": {
     "duration": 0.006328,
     "end_time": "2023-10-24T10:53:04.963084",
     "exception": false,
     "start_time": "2023-10-24T10:53:04.956756",
     "status": "completed"
    },
    "tags": []
   },
   "source": [
    "## 3) DBSCAN (Density-Based Spatial Clustering of Applications with Noise)\n",
    "\n",
    "**Identifies clusters of varying shapes and can detect noise/outliers.**"
   ]
  },
  {
   "cell_type": "markdown",
   "id": "8282772b",
   "metadata": {
    "papermill": {
     "duration": 0.006204,
     "end_time": "2023-10-24T10:53:04.975682",
     "exception": false,
     "start_time": "2023-10-24T10:53:04.969478",
     "status": "completed"
    },
    "tags": []
   },
   "source": []
  },
  {
   "cell_type": "markdown",
   "id": "602fe9b9",
   "metadata": {
    "papermill": {
     "duration": 0.006428,
     "end_time": "2023-10-24T10:53:05.047502",
     "exception": false,
     "start_time": "2023-10-24T10:53:05.041074",
     "status": "completed"
    },
    "tags": []
   },
   "source": [
    "## 4) Gaussian Mixture Models (GMM)\n",
    "\n",
    "**Models data as a mixture of Gaussian distributions, allowing for more flexible cluster shapes**"
   ]
  },
  {
   "cell_type": "markdown",
   "id": "dbbd089e",
   "metadata": {
    "papermill": {
     "duration": 0.006445,
     "end_time": "2023-10-24T10:53:05.060800",
     "exception": false,
     "start_time": "2023-10-24T10:53:05.054355",
     "status": "completed"
    },
    "tags": []
   },
   "source": [
    "<div style=\"text-align: left; background-color:; font-family: Trebuchet MS; color: #00008B; padding: 15px; line-height:1;border-radius:1px; margin-bottom: 0em; text-align: center; font-size: 25px;border-style: solid;border-color: dark green\"> Anomaly Detection  </div>"
   ]
  },
  {
   "cell_type": "markdown",
   "id": "dec86989",
   "metadata": {
    "papermill": {
     "duration": 0.006462,
     "end_time": "2023-10-24T10:53:05.074090",
     "exception": false,
     "start_time": "2023-10-24T10:53:05.067628",
     "status": "completed"
    },
    "tags": []
   },
   "source": []
  },
  {
   "cell_type": "markdown",
   "id": "d4734932",
   "metadata": {
    "papermill": {
     "duration": 0.006326,
     "end_time": "2023-10-24T10:53:05.087335",
     "exception": false,
     "start_time": "2023-10-24T10:53:05.081009",
     "status": "completed"
    },
    "tags": []
   },
   "source": [
    "## Local Outlier Factor (LOF)\n",
    "\n",
    "**Detects local anomalies based on data point density relative to its neighbors.**"
   ]
  },
  {
   "cell_type": "markdown",
   "id": "f95a9b3f",
   "metadata": {
    "papermill": {
     "duration": 0.006364,
     "end_time": "2023-10-24T10:53:05.100457",
     "exception": false,
     "start_time": "2023-10-24T10:53:05.094093",
     "status": "completed"
    },
    "tags": []
   },
   "source": []
  },
  {
   "cell_type": "markdown",
   "id": "ce4f9e00",
   "metadata": {
    "papermill": {
     "duration": 0.006309,
     "end_time": "2023-10-24T10:53:05.113475",
     "exception": false,
     "start_time": "2023-10-24T10:53:05.107166",
     "status": "completed"
    },
    "tags": []
   },
   "source": []
  },
  {
   "cell_type": "markdown",
   "id": "59b758a7",
   "metadata": {
    "papermill": {
     "duration": 0.006415,
     "end_time": "2023-10-24T10:53:05.126646",
     "exception": false,
     "start_time": "2023-10-24T10:53:05.120231",
     "status": "completed"
    },
    "tags": []
   },
   "source": [
    "<div style=\"text-align: left; background-color:; font-family: Trebuchet MS; color: #00008B; padding: 15px; line-height:1;border-radius:1px; margin-bottom: 0em; text-align: center; font-size: 25px;border-style: solid;border-color: dark green\"> Dimensionality Detection  </div>"
   ]
  },
  {
   "cell_type": "markdown",
   "id": "82ac7d46",
   "metadata": {
    "papermill": {
     "duration": 0.006341,
     "end_time": "2023-10-24T10:53:05.139698",
     "exception": false,
     "start_time": "2023-10-24T10:53:05.133357",
     "status": "completed"
    },
    "tags": []
   },
   "source": [
    "## Principal Component Analysis (PCA)\n",
    "\n",
    "**Reduces the dimensionality of data while preserving variance**"
   ]
  }
 ],
 "metadata": {
  "kernelspec": {
   "display_name": "Python 3",
   "language": "python",
   "name": "python3"
  },
  "language_info": {
   "codemirror_mode": {
    "name": "ipython",
    "version": 3
   },
   "file_extension": ".py",
   "mimetype": "text/x-python",
   "name": "python",
   "nbconvert_exporter": "python",
   "pygments_lexer": "ipython3",
   "version": "3.10.12"
  },
  "papermill": {
   "default_parameters": {},
   "duration": 4.091626,
   "end_time": "2023-10-24T10:53:05.465622",
   "environment_variables": {},
   "exception": null,
   "input_path": "__notebook__.ipynb",
   "output_path": "__notebook__.ipynb",
   "parameters": {},
   "start_time": "2023-10-24T10:53:01.373996",
   "version": "2.4.0"
  }
 },
 "nbformat": 4,
 "nbformat_minor": 5
}
